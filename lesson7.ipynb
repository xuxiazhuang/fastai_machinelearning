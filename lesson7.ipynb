{
 "cells": [
  {
   "cell_type": "code",
   "execution_count": 6,
   "metadata": {},
   "outputs": [],
   "source": [
    "from sklearn.ensemble import RandomForestRegressor, RandomForestClassifier\n",
    "from IPython.display import display\n",
    "from sklearn import metrics\n",
    "import pandas as pd"
   ]
  },
  {
   "cell_type": "code",
   "execution_count": 8,
   "metadata": {},
   "outputs": [],
   "source": [
    "def split_vals(a,n): return a[:n], a[n:]"
   ]
  },
  {
   "cell_type": "code",
   "execution_count": null,
   "metadata": {},
   "outputs": [],
   "source": [
    "n_trn = len(df_trn)-n_valid\n",
    "X_train, X_valid = split_vals(df_trn, n_trn)\n",
    "y_train, y_valid = split_vals(y_trn, n_trn)\n",
    "raw_train, raw_valid = split_vals(df_raw, n_trn)\n",
    "x_sub = X_train[['YearMade', 'MachineHoursCurrentMeter']]"
   ]
  },
  {
   "cell_type": "code",
   "execution_count": 10,
   "metadata": {},
   "outputs": [],
   "source": [
    "class TreeEnsemble():\n",
    "  def __init__(self, x, y, n_trees, sample_sz, min_leaf=5):\n",
    "    np.random.seed(42)\n",
    "    self.x,self.y,self.sample_sz,self.min_leaf = x,y,sample_sz,min_leaf\n",
    "    self.trees = [self.create_tree() for i in range(n_trees)]\n",
    "\n",
    "  def create_tree(self):\n",
    "    rnd_idxs = np.random.permutation(len(self.y))[:self.sample_sz]\n",
    "    return DecisionTree(self.x.iloc[rnd_idxs], self.y[rnd_idxs],\n",
    "                            min_leaf=self.min_leaf)"
   ]
  },
  {
   "cell_type": "code",
   "execution_count": null,
   "metadata": {},
   "outputs": [],
   "source": [
    "def predict(self, x):\n",
    "    return np.mean([t.predict(x) for t in self.trees], axis=0)\n",
    "class DecisionTree():\n",
    "    def __init__(self, x, y, idxs=None, min_leaf=5):\n",
    "        self.x,self.y,self.idxs,self.min_leaf = x,y,idxs,min_leaf\n",
    "m = TreeEnsemble(X_train, y_train, n_trees=10, sample_sz=1000, \n",
    "                 min_leaf=3)"
   ]
  },
  {
   "cell_type": "code",
   "execution_count": 12,
   "metadata": {},
   "outputs": [],
   "source": [
    "class DecisionTree():\n",
    "    def __init__(self, x, y, idxs=None, min_leaf=5):\n",
    "        if idxs is None: idxs=np.arange(len(y))\n",
    "        self.x,self.y,self.idxs,self.min_leaf = x,y,idxs,min_leaf\n",
    "        self.n,self.c = len(idxs), x.shape[1]\n",
    "        self.val = np.mean(y[idxs])\n",
    "        self.score = float('inf')\n",
    "        self.find_varsplit()"
   ]
  },
  {
   "cell_type": "code",
   "execution_count": null,
   "metadata": {},
   "outputs": [],
   "source": [
    "# This just does one decision; we'll make it recursive later\n",
    "    def find_varsplit(self):\n",
    "        for i in range(self.c): self.find_better_split(i)\n",
    "            \n",
    "    # We'll write this later!\n",
    "    def find_better_split(self, var_idx): pass\n",
    "    \n",
    "    @property\n",
    "    def split_name(self): return self.x.columns[self.var_idx]\n",
    "    \n",
    "    @property\n",
    "    def split_col(self): \n",
    "        return self.x.values[self.idxs,self.var_idx]\n",
    "\n",
    "    @property\n",
    "    def is_leaf(self): return self.score == float('inf')\n",
    "    \n",
    "    def __repr__(self):\n",
    "        s = f'n: {self.n}; val:{self.val}'\n",
    "        if not self.is_leaf:\n",
    "            s += f'; score:{self.score}; split:{self.split}; var:\n",
    "                   {self.split_name}'\n",
    "        return s"
   ]
  },
  {
   "cell_type": "code",
   "execution_count": null,
   "metadata": {},
   "outputs": [],
   "source": [
    "ens = TreeEnsemble(x_sub, y_train, 1, 1000)\n",
    "tree = ens.trees[0]\n",
    "x_samp,y_samp = tree.x, tree.y"
   ]
  },
  {
   "cell_type": "code",
   "execution_count": 15,
   "metadata": {},
   "outputs": [],
   "source": [
    "def find_better_split(self, var_idx):\n",
    "   x,y = self.x.values[self.idxs,var_idx], self.y[self.idxs]\n",
    "   for i in range(1,self.n-1):\n",
    "      lhs = x<=x[i]\n",
    "      rhs = x>x[i]\n",
    "      if rhs.sum()==0: continue\n",
    "      lhs_std = y[lhs].std()\n",
    "      rhs_std = y[rhs].std()\n",
    "      curr_score = lhs_std*lhs.sum() + rhs_std*rhs.sum()\n",
    "      if curr_score<self.score: \n",
    "        self.var_idx,self.score,self.split = var_idx,curr_score,x[i]"
   ]
  },
  {
   "cell_type": "code",
   "execution_count": null,
   "metadata": {},
   "outputs": [],
   "source": [
    "tree = TreeEnsemble(x_sub, y_train, 1, 1000).trees[0]\n",
    "def std_agg(cnt, s1, s2): return math.sqrt((s2/cnt) - (s1/cnt)**2)\n",
    "\n",
    "def find_better_split_foo(self, var_idx):\n",
    "  x,y = self.x.values[self.idxs,var_idx], self.y[self.idxs]\n",
    "    \n",
    "  sort_idx = np.argsort(x)\n",
    "  sort_y,sort_x = y[sort_idx], x[sort_idx]\n",
    "  rhs_cnt,rhs_sum,rhs_sum2 = self.n, sort_y.sum(), (sort_y**2).sum()\n",
    "  lhs_cnt,lhs_sum,lhs_sum2 = 0,0.,0.\n",
    "\n",
    "  for i in range(0,self.n-self.min_leaf-1):\n",
    "    xi,yi = sort_x[i],sort_y[i]\n",
    "    lhs_cnt += 1; rhs_cnt -= 1\n",
    "    lhs_sum += yi; rhs_sum -= yi\n",
    "    lhs_sum2 += yi**2; rhs_sum2 -= yi**2\n",
    "    if i<self.min_leaf or xi==sort_x[i+1]:\n",
    "      continue\n",
    "            \n",
    "    lhs_std = std_agg(lhs_cnt, lhs_sum, lhs_sum2)\n",
    "    rhs_std = std_agg(rhs_cnt, rhs_sum, rhs_sum2)\n",
    "    curr_score = lhs_std*lhs_cnt + rhs_std*rhs_cnt\n",
    "    if curr_score<self.score: \n",
    "      self.var_idx,self.score,self.split = var_idx,curr_score,xi"
   ]
  },
  {
   "cell_type": "code",
   "execution_count": 17,
   "metadata": {},
   "outputs": [],
   "source": [
    "def find_varsplit(self):\n",
    "    for i in range(self.c): self.find_better_split(i)\n",
    "    if self.is_leaf: return\n",
    "    x = self.split_col\n",
    "    lhs = np.nonzero(x<=self.split)[0]\n",
    "    rhs = np.nonzero(x>self.split)[0]\n",
    "    self.lhs = DecisionTree(self.x, self.y, self.idxs[lhs])\n",
    "    self.rhs = DecisionTree(self.x, self.y, self.idxs[rhs])"
   ]
  },
  {
   "cell_type": "code",
   "execution_count": 18,
   "metadata": {},
   "outputs": [],
   "source": [
    "def predict(self, x): \n",
    "    return np.array([self.predict_row(xi) for xi in x])"
   ]
  },
  {
   "cell_type": "markdown",
   "metadata": {},
   "source": [
    "# Putting it together"
   ]
  },
  {
   "cell_type": "code",
   "execution_count": 21,
   "metadata": {},
   "outputs": [],
   "source": [
    "class TreeEnsemble():\n",
    "  def __init__(self, x, y, n_trees, sample_sz, min_leaf=5):\n",
    "    np.random.seed(42)\n",
    "    self.x,self.y,self.sample_sz,self.min_leaf = x,y,sample_sz,min_leaf\n",
    "    self.trees = [self.create_tree() for i in range(n_trees)]\n",
    "  def create_tree(self):\n",
    "    idxs = np.random.permutation(len(self.y))[:self.sample_sz]\n",
    "    return DecisionTree(self.x.iloc[idxs], self.y[idxs], \n",
    "                    idxs=np.array(range(self.sample_sz)), \n",
    "                    min_leaf=self.min_leaf)\n",
    "        \n",
    "  def predict(self, x):\n",
    "    return np.mean([t.predict(x) for t in self.trees], axis=0)\n",
    "def std_agg(cnt, s1, s2): return math.sqrt((s2/cnt) - (s1/cnt)**2)\n",
    "class DecisionTree():\n",
    "  def __init__(self, x, y, idxs, min_leaf=5):\n",
    "    self.x,self.y,self.idxs,self.min_leaf = x,y,idxs,min_leaf\n",
    "    self.n,self.c = len(idxs), x.shape[1]\n",
    "    self.val = np.mean(y[idxs])\n",
    "    self.score = float('inf')\n",
    "    self.find_varsplit()\n",
    "        \n",
    "  def find_varsplit(self):\n",
    "    for i in range(self.c): self.find_better_split(i)\n",
    "    if self.score == float('inf'): return\n",
    "    x = self.split_col\n",
    "    lhs = np.nonzero(x<=self.split)[0]\n",
    "    rhs = np.nonzero(x>self.split)[0]\n",
    "    self.lhs = DecisionTree(self.x, self.y, self.idxs[lhs])\n",
    "    self.rhs = DecisionTree(self.x, self.y, self.idxs[rhs])\n",
    "  def find_better_split(self, var_idx):\n",
    "    x,y = self.x.values[self.idxs,var_idx], self.y[self.idxs]\n",
    "    sort_idx = np.argsort(x)\n",
    "    sort_y,sort_x = y[sort_idx], x[sort_idx]\n",
    "    rhs_cnt,rhs_sum,rhs_sum2 = self.n,sort_y.sum(),(sort_y**2).sum()\n",
    "    lhs_cnt,lhs_sum,lhs_sum2 = 0,0.,0.\n",
    "    for i in range(0,self.n-self.min_leaf-1):\n",
    "      xi,yi = sort_x[i],sort_y[i]\n",
    "      lhs_cnt += 1; rhs_cnt -= 1\n",
    "      lhs_sum += yi; rhs_sum -= yi\n",
    "      lhs_sum2 += yi**2; rhs_sum2 -= yi**2\n",
    "      if i<self.min_leaf or xi==sort_x[i+1]:\n",
    "       continue\n",
    "      lhs_std = std_agg(lhs_cnt, lhs_sum, lhs_sum2)\n",
    "      rhs_std = std_agg(rhs_cnt, rhs_sum, rhs_sum2)\n",
    "      curr_score = lhs_std*lhs_cnt + rhs_std*rhs_cnt\n",
    "      if curr_score<self.score: \n",
    "       self.var_idx,self.score,self.split = var_idx,curr_score,xi\n",
    "  @property\n",
    "  def split_name(self): return self.x.columns[self.var_idx]\n",
    "    \n",
    "  @property\n",
    "  def split_col(self): return self.x.values[self.idxs,self.var_idx]\n",
    "  @property\n",
    "  def is_leaf(self): return self.score == float('inf')\n",
    "    \n",
    "  def __repr__(self):\n",
    "    s = f'n: {self.n}; val:{self.val}'\n",
    "    if not self.is_leaf:\n",
    "      s += f'; score:{self.score}; split:{self.split}; var:{self.split_name}'\n",
    "    return s\n",
    "  def predict(self, x):\n",
    "    return np.array([self.predict_row(xi) for xi in x])\n",
    "  def predict_row(self, xi):\n",
    "    if self.is_leaf: return self.val\n",
    "    t = self.lhs if xi[self.var_idx]<=self.split else self.rhs\n",
    "    return t.predict_row(xi)"
   ]
  },
  {
   "cell_type": "code",
   "execution_count": null,
   "metadata": {},
   "outputs": [],
   "source": []
  },
  {
   "cell_type": "code",
   "execution_count": null,
   "metadata": {},
   "outputs": [],
   "source": []
  },
  {
   "cell_type": "code",
   "execution_count": null,
   "metadata": {},
   "outputs": [],
   "source": []
  },
  {
   "cell_type": "code",
   "execution_count": null,
   "metadata": {},
   "outputs": [],
   "source": []
  }
 ],
 "metadata": {
  "kernelspec": {
   "display_name": "Python 3",
   "language": "python",
   "name": "python3"
  },
  "language_info": {
   "codemirror_mode": {
    "name": "ipython",
    "version": 3
   },
   "file_extension": ".py",
   "mimetype": "text/x-python",
   "name": "python",
   "nbconvert_exporter": "python",
   "pygments_lexer": "ipython3",
   "version": "3.6.8"
  }
 },
 "nbformat": 4,
 "nbformat_minor": 2
}
